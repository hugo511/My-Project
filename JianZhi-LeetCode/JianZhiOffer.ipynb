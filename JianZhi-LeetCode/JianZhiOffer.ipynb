{
 "cells": [
  {
   "cell_type": "markdown",
   "metadata": {},
   "source": [
    "#### 1.在一个二维数组中（每个一维数组的长度相同），每一行都按照从左到右递增的顺序排序，每一列都按照从上到下递增的顺序排序。请完成一个函数，输入这样的一个二维数组和一个整数，判断数组中是否含有该整数。"
   ]
  },
  {
   "cell_type": "code",
   "execution_count": 3,
   "metadata": {},
   "outputs": [],
   "source": [
    "class Solution:\n",
    "    def Find(self, target, array):\n",
    "        rows= len(array)-1\n",
    "        columns=len(array[0])-1\n",
    "        i=rows; j=0; flag='False';\n",
    "        while i>0 and j<=columns:\n",
    "            if array[i][j] > target:\n",
    "                i-=1;\n",
    "            elif array[i][j] < target:\n",
    "                j+=1;\n",
    "            else:\n",
    "                return True\n",
    "        return False"
   ]
  },
  {
   "cell_type": "markdown",
   "metadata": {},
   "source": [
    "#### 2.请实现一个函数，将一个字符串中的每个空格替换成“%20”。例如，当字符串为We Are Happy.则经过替换之后的字符串为We%20Are%20Happy。"
   ]
  },
  {
   "cell_type": "code",
   "execution_count": 4,
   "metadata": {},
   "outputs": [],
   "source": [
    "class Solution:\n",
    "    def repalceSpace(self, string):\n",
    "        string=string.split(' ')\n",
    "        new_str='%20'.join(string)\n",
    "        return(new_str)"
   ]
  },
  {
   "cell_type": "markdown",
   "metadata": {},
   "source": [
    "#### 3.输入一个链表，按链表值从尾到头的顺序返回一个ArrayList。"
   ]
  },
  {
   "cell_type": "code",
   "execution_count": 5,
   "metadata": {},
   "outputs": [],
   "source": [
    "class Solution:\n",
    "    def printListFromTailToHead(self,listNode):\n",
    "        l=[];\n",
    "        head=listNode;\n",
    "        while head:\n",
    "            l.insert(0, head.val)\n",
    "            head=head.next;\n",
    "        return(l)"
   ]
  },
  {
   "cell_type": "markdown",
   "metadata": {},
   "source": [
    "#### 4.输入某二叉树的前序遍历和中序遍历的结果，请重建出该二叉树。假设输入的前序遍历和中序遍历的结果中都不含重复的数字。例如输入前序遍历序列{1,2,4,7,3,5,6,8}和中序遍历序列{4,7,2,1,5,3,8,6}，则重建二叉树并返回。"
   ]
  },
  {
   "cell_type": "code",
   "execution_count": 6,
   "metadata": {},
   "outputs": [],
   "source": [
    "class Solution:\n",
    "    def reConstructBinaryTree(self, pre, tin):\n",
    "        if len(pre) == 0:\n",
    "            return none\n",
    "        if len(pre) ==1:\n",
    "            return TreeNode(pre[0])\n",
    "        else:\n",
    "            flag=TreeNode(pre[0])\n",
    "            flag.left=self.reConstructBinaryTree(pre[1:tin.index(pre[0])+1],tin[:tin.index(pre[0])])\n",
    "            flag.right=self.reConstructBinaryTree(pre[tin.index(pre[0])+1:],tin[tin.index(pre[0])+1:])\n",
    "        return flag"
   ]
  },
  {
   "cell_type": "markdown",
   "metadata": {},
   "source": [
    "#### 5.用两个栈来实现一个队列，完成队列的Push和Pop操作。 队列中的元素为int类型。"
   ]
  },
  {
   "cell_type": "code",
   "execution_count": 1,
   "metadata": {},
   "outputs": [],
   "source": [
    "class Solution:\n",
    "    def _init_(self):\n",
    "        self.stack1=[]\n",
    "        self.stack2=[]\n",
    "    def push(self, node):\n",
    "        self.stack1.append(node)\n",
    "    def pop(self):\n",
    "        if self.stack2 == []:\n",
    "            while self.stack1:\n",
    "                self.stack2.append(self.stack1.pop())\n",
    "            return self.stack2.pop()\n",
    "        return self.stack2.pop()"
   ]
  },
  {
   "cell_type": "markdown",
   "metadata": {},
   "source": [
    "#### 6.把一个数组最开始的若干个元素搬到数组的末尾，我们称之为数组的旋转。 输入一个非减排序的数组的一个旋转，输出旋转数组的最小元素。 例如数组{3,4,5,1,2}为{1,2,3,4,5}的一个旋转，该数组的最小值为1。 NOTE：给出的所有元素都大于0，若数组大小为0，请返回0。"
   ]
  },
  {
   "cell_type": "code",
   "execution_count": 3,
   "metadata": {},
   "outputs": [],
   "source": [
    "class Solution:\n",
    "    def minNumberInRotateArray(self, rotateArray):\n",
    "        if len(rotateArray) == 0:\n",
    "            return 0;\n",
    "        \n",
    "        if len(rotateArray) == 1:\n",
    "            return rotateArray[0]\n",
    "        \n",
    "        ret=rotateArray[0]\n",
    "        for i in range(1,len(rotateArray)):\n",
    "            now=rotateArray[i]\n",
    "            if now < ret :\n",
    "                ret = now\n",
    "                break\n",
    "        return ret"
   ]
  },
  {
   "cell_type": "markdown",
   "metadata": {},
   "source": [
    "#### 7.大家都知道斐波那契数列，现在要求输入一个整数n，请你输出斐波那契数列的第n项（从0开始，第0项为0）。"
   ]
  },
  {
   "cell_type": "code",
   "execution_count": 4,
   "metadata": {},
   "outputs": [],
   "source": [
    "class Solution:\n",
    "    def Fibonacci(self,n):\n",
    "        f0=0; f1=1;\n",
    "        if n == 0:\n",
    "            return f0\n",
    "        if n == 1:\n",
    "            return f1\n",
    "        for i in xrange(2,n+1):\n",
    "            a = f0+f1\n",
    "            f0=f1\n",
    "            f1=a\n",
    "        return a"
   ]
  },
  {
   "cell_type": "markdown",
   "metadata": {},
   "source": [
    "#### 8.一只青蛙一次可以跳上1级台阶，也可以跳上2级。求该青蛙跳上一个n级的台阶总共有多少种跳法（先后次序不同算不同的结果）。    _____也是斐波那契数列问题 f(n)=f(n-1) + f(n-2)"
   ]
  },
  {
   "cell_type": "code",
   "execution_count": 5,
   "metadata": {},
   "outputs": [],
   "source": [
    "class Solution:\n",
    "    def jumpFloor(self,number):\n",
    "        if number <= 0 :\n",
    "            return 1\n",
    "        elif number <=2:\n",
    "            return number\n",
    "        else:\n",
    "            a,b=1,2\n",
    "            for i in range(2,number):\n",
    "                tmp=a+b\n",
    "                a=b\n",
    "                b=tmp\n",
    "            return b"
   ]
  },
  {
   "cell_type": "markdown",
   "metadata": {},
   "source": [
    "#### 9.一只青蛙一次可以跳上1级台阶，也可以跳上2级……它也可以跳上n级。求该青蛙跳上一个n级的台阶总共有多少种跳法。"
   ]
  },
  {
   "cell_type": "code",
   "execution_count": 8,
   "metadata": {},
   "outputs": [],
   "source": [
    "class Solution:\n",
    "    def jumpFloorII(self,n):\n",
    "        if n <= 1:\n",
    "            return 1\n",
    "        else:\n",
    "            return math.pow(2,n-1)\n",
    "        "
   ]
  },
  {
   "cell_type": "markdown",
   "metadata": {},
   "source": [
    "#### 10.我们可以用2\\*1的小矩形横着或者竖着去覆盖更大的矩形。请问用n个2\\*1的小矩形无重叠地覆盖一个2\\*n的大矩形，总共有多少种方法？   __(依旧是斐波那契数列)"
   ]
  },
  {
   "cell_type": "code",
   "execution_count": 3,
   "metadata": {},
   "outputs": [],
   "source": [
    "class Solution:\n",
    "    def rectCover(self,n):\n",
    "        f0=1; f1=1; f2=2;\n",
    "        if n <= 1:\n",
    "            return 1\n",
    "        elif n == 2:\n",
    "            return f2\n",
    "        else:\n",
    "            for i in range(1,n+1):\n",
    "                kinds=f1+f2\n",
    "                f1=f2\n",
    "                f2=kinds\n",
    "        return kinds"
   ]
  },
  {
   "cell_type": "markdown",
   "metadata": {},
   "source": [
    "#### 11.输入一个整数，输出该数二进制表示中1的个数。其中负数用补码表示。"
   ]
  },
  {
   "cell_type": "code",
   "execution_count": 6,
   "metadata": {},
   "outputs": [],
   "source": [
    "class solution:\n",
    "    def NumberOf1(self,n):\n",
    "        return bin(n).replace(\"0b\",\"\").count(\"1\") if n >=0 else bin(2**32+n).replace(\"0b\",\"\").count(\"1\")"
   ]
  },
  {
   "cell_type": "markdown",
   "metadata": {},
   "source": [
    "#### 12.给定一个double类型的浮点数base和int类型的整数exponent。求base的exponent次方。"
   ]
  },
  {
   "cell_type": "code",
   "execution_count": 7,
   "metadata": {},
   "outputs": [],
   "source": [
    "class Solution:\n",
    "    def Power(self,base,exponent):\n",
    "        if base == 0:\n",
    "            return 0\n",
    "        elif base == 1:\n",
    "            return 1\n",
    "        elif exponent == 0:\n",
    "            return 1\n",
    "        elif exponent == 1:\n",
    "            return base\n",
    "        else:\n",
    "            return pow(base,exponent)\n",
    "            "
   ]
  },
  {
   "cell_type": "markdown",
   "metadata": {},
   "source": [
    "#### 13.输入一个整数数组，实现一个函数来调整该数组中数字的顺序，使得所有的奇数位于数组的前半部分，所有的偶数位于数组的后半部分，并保证奇数和奇数，偶数和偶数之间的相对位置不变。"
   ]
  },
  {
   "cell_type": "code",
   "execution_count": 9,
   "metadata": {},
   "outputs": [],
   "source": [
    "from collections import deque\n",
    "class Solution:\n",
    "    def reOrderArray(self,array):\n",
    "        odd= deque()\n",
    "        length= len(array)\n",
    "        for i in range(length):\n",
    "            if array[length-i-1] % 2 != 0:\n",
    "                odd.appendleft(array[length-i-1])\n",
    "            if array[i]%2 == 0:\n",
    "                odd.append(array[i])\n",
    "        return list(odd)"
   ]
  },
  {
   "cell_type": "markdown",
   "metadata": {},
   "source": [
    "#### 14.输入一个链表，输出该链表中倒数第k个结点。"
   ]
  },
  {
   "cell_type": "code",
   "execution_count": 13,
   "metadata": {},
   "outputs": [],
   "source": [
    "class Solution:\n",
    "    def FindKthTail(self,head,k):\n",
    "        l=[]\n",
    "        while head != None:\n",
    "            l.append(head.val)\n",
    "            head=head.next\n",
    "        if k > len(l) or k<1:\n",
    "            return None\n",
    "        return l[-k]\n",
    "    \n",
    "            "
   ]
  },
  {
   "cell_type": "markdown",
   "metadata": {},
   "source": [
    "#### 15.输入一个链表，反转链表后，输出新链表的表头。"
   ]
  },
  {
   "cell_type": "code",
   "execution_count": 14,
   "metadata": {},
   "outputs": [],
   "source": [
    "class Solution:\n",
    "    def reverseList(self,pHead):\n",
    "        if not pHead or not pHead.next:\n",
    "            return pHead\n",
    "        last = None\n",
    "        while pHead:\n",
    "            tmp=phead.next\n",
    "            pHead.next=last\n",
    "            last=pHead\n",
    "            pHead=tmp\n",
    "        return last"
   ]
  },
  {
   "cell_type": "markdown",
   "metadata": {},
   "source": [
    "#### 16.输入两个单调递增的链表，输出两个链表合成后的链表，当然我们需要合成后的链表满足单调不减规则。"
   ]
  },
  {
   "cell_type": "code",
   "execution_count": 15,
   "metadata": {},
   "outputs": [],
   "source": [
    "class Solution:\n",
    "    def Merge(self,pHead1,pHead2):\n",
    "        res=head=ListNode(0)\n",
    "        while pHead1 and pHead2:\n",
    "            if pHead1.val < pHead2.val:\n",
    "                head.next=pHead1\n",
    "                pHead1=pHead1.next\n",
    "            elif pHead1.val >= pHead2.val:\n",
    "                head.next=pHead2\n",
    "                pHead2=pHead2.next\n",
    "            head=head.next\n",
    "        head.next=pHead1 or pHead2\n",
    "        return res.next"
   ]
  },
  {
   "cell_type": "markdown",
   "metadata": {},
   "source": [
    "#### 17.输入两棵二叉树A，B，判断B是不是A的子结构。（ps：我们约定空树不是任意一个树的子结构）"
   ]
  },
  {
   "cell_type": "code",
   "execution_count": 16,
   "metadata": {},
   "outputs": [],
   "source": [
    "class Solution:\n",
    "    def HasSubtree(self,pRoot1,pRoot2):\n",
    "        if not pRoot1 or not pRoot2:\n",
    "            return False\n",
    "        return self.is_subtree(pRoot1,pRoot2) or self.HasSubtree(pRoot1.left,pRoot2) or self.HasSubtree(pRoot1.right,pRoot2)\n",
    "    \n",
    "    def is_subtree(self,A,B):\n",
    "        if not B:\n",
    "            return True\n",
    "        if not A or A.val!=B.val:\n",
    "            return False\n",
    "        return self.is_subtree(A.left,B.left) and self.is_subtree(A.right,B.right)"
   ]
  },
  {
   "cell_type": "markdown",
   "metadata": {},
   "source": [
    "#### 18.操作给定的二叉树，将其变换为源二叉树的镜像。\n"
   ]
  },
  {
   "cell_type": "raw",
   "metadata": {},
   "source": [
    "输入描述:\n",
    "二叉树的镜像定义：源二叉树 \n",
    "    \t    8\n",
    "    \t   /  \\\n",
    "    \t  6   10\n",
    "    \t / \\  / \\\n",
    "    \t5  7 9 11\n",
    "    \t镜像二叉树\n",
    "    \t    8\n",
    "    \t   /  \\\n",
    "    \t  10   6\n",
    "    \t / \\  / \\\n",
    "    \t11 9 7  5"
   ]
  },
  {
   "cell_type": "code",
   "execution_count": 17,
   "metadata": {},
   "outputs": [],
   "source": [
    "class Solution:\n",
    "    def Mirror(self,root):\n",
    "        if not root:\n",
    "            return root\n",
    "        if not root.left and not root.right:\n",
    "            return root\n",
    "        if root.left or root.right:\n",
    "            root.left , root.right=root.right , root.left\n",
    "        self.Mirror(root.left)\n",
    "        self.Mirror(root.right)"
   ]
  },
  {
   "cell_type": "markdown",
   "metadata": {},
   "source": [
    "#### 19.输入一个矩阵，按照从外向里以顺时针的顺序依次打印出每一个数字，例如，如果输入如下4 X 4矩阵： 1 2 3 4 5 6 7 8 9 10 11 12 13 14 15 16 则依次打印出数字1,2,3,4,8,12,16,15,14,13,9,5,6,7,11,10."
   ]
  },
  {
   "cell_type": "code",
   "execution_count": null,
   "metadata": {},
   "outputs": [],
   "source": []
  },
  {
   "cell_type": "markdown",
   "metadata": {},
   "source": [
    "#### 20.定义栈的数据结构，请在该类型中实现一个能够得到栈中所含最小元素的min函数（时间复杂度应为O（1））。"
   ]
  },
  {
   "cell_type": "code",
   "execution_count": 18,
   "metadata": {},
   "outputs": [],
   "source": [
    "class Solution:\n",
    "    def _init_(self):\n",
    "        self.stack=[]\n",
    "        self.min_stack=[]\n",
    "    def push(self, node):\n",
    "        # write code here\n",
    "        self.stack.append(node)\n",
    "        if not self.min_stack or node<self.min_stack[-1]:\n",
    "            self.min_stack.append(node)\n",
    "        else:\n",
    "            self.min_stack.append(self.min_stack[-1])\n",
    "    def pop(self):\n",
    "        # write code here\n",
    "        if not self.stack:\n",
    "            self.stack.pop()\n",
    "        self.min_stack.pop()\n",
    "    def top(self):\n",
    "        # write code here\n",
    "        return self.stack[-1]\n",
    "    def min(self):\n",
    "        # write code here\n",
    "        return self.min_stack[-1]"
   ]
  },
  {
   "cell_type": "markdown",
   "metadata": {},
   "source": [
    "#### 21.输入两个整数序列，第一个序列表示栈的压入顺序，请判断第二个序列是否可能为该栈的弹出顺序。假设压入栈的所有数字均不相等。例如序列1,2,3,4,5是某栈的压入顺序，序列4,5,3,2,1是该压栈序列对应的一个弹出序列，但4,3,5,1,2就不可能是该压栈序列的弹出序列。（注意：这两个序列的长度是相等的）"
   ]
  },
  {
   "cell_type": "code",
   "execution_count": 1,
   "metadata": {},
   "outputs": [],
   "source": [
    "class Solution:\n",
    "    def IsPopOrder(self,pushV,popV):\n",
    "        if not pushV or len(pushV) != len(popV):\n",
    "            return False\n",
    "        stack=[]\n",
    "        for i in pushV:\n",
    "            stack.append(i)\n",
    "            while stack[-1] == popV[0] and len(stack):\n",
    "                stack.pop()\n",
    "                popV.pop(0)\n",
    "        if len(stack):\n",
    "            return False\n",
    "        return True"
   ]
  },
  {
   "cell_type": "markdown",
   "metadata": {},
   "source": [
    "#### 22.从上往下打印出二叉树的每个节点，同层节点从左至右打印。"
   ]
  },
  {
   "cell_type": "code",
   "execution_count": 2,
   "metadata": {},
   "outputs": [],
   "source": [
    "class Solution:\n",
    "    def PrintFromTopToBottom(self,root):\n",
    "        if not root:\n",
    "            return False\n",
    "        q=[root];l=[]\n",
    "        while len(q):\n",
    "            t=q.pop(0)\n",
    "            l.append(t.val)\n",
    "            if t.left:\n",
    "                q.append(t.left)\n",
    "            if t.right:\n",
    "                q.append(t.right)\n",
    "        return l"
   ]
  },
  {
   "cell_type": "markdown",
   "metadata": {},
   "source": [
    "#### 23.输入一个整数数组，判断该数组是不是某二叉搜索树的后序遍历的结果。如果是则输出Yes,否则输出No。假设输入的数组的任意两个数字都互不相同。"
   ]
  },
  {
   "cell_type": "code",
   "execution_count": 4,
   "metadata": {},
   "outputs": [],
   "source": [
    "class Solution:\n",
    "    def VerifySequenceOfBST(self,sequence):\n",
    "        if not sequence:\n",
    "            return False\n",
    "        if len(sequence) == 1:\n",
    "            return True\n",
    "        length=len(sequence)\n",
    "        root=sequence[-1]\n",
    "        i=0;\n",
    "        while sequence[i] < root:\n",
    "            i+=1\n",
    "        k=i\n",
    "        for i in range(k,length-1):\n",
    "            if sequence[i] < root:\n",
    "                return False\n",
    "        left_s=sequence[:k]\n",
    "        right_s=sequence[k:length-1]\n",
    "        \n",
    "        leftIs=True\n",
    "        rightIs=True\n",
    "        \n",
    "        if len(left_s)>0:\n",
    "            leftIs=self.VerifySequenceOfBST(sequence=left_s)\n",
    "        if len(right_s)>0:\n",
    "            rightIs=self.VerifySequenceOfBST(sequence=right_s)\n",
    "            \n",
    "        return leftIs and rightIs"
   ]
  },
  {
   "cell_type": "markdown",
   "metadata": {},
   "source": [
    "#### 24.输入一颗二叉树的跟节点和一个整数，打印出二叉树中结点值的和为输入整数的所有路径。路径定义为从树的根结点开始往下一直到叶结点所经过的结点形成一条路径。(注意: 在返回值的list中，数组长度大的数组靠前)"
   ]
  },
  {
   "cell_type": "code",
   "execution_count": 8,
   "metadata": {},
   "outputs": [],
   "source": [
    "class Solution:\n",
    "    def FindPath(self,root,expectNumber):\n",
    "        if not root:\n",
    "            return []\n",
    "        if root and root.val == expectNumber and not root.left and not root.right:\n",
    "            return [[root.val]]\n",
    "        result=[]\n",
    "        left=self.FindPath(root.left,expectNumber-root.val)\n",
    "        right=self.FindPath(root.right,expectNumber-root.val)\n",
    "        for i in left+right:\n",
    "            result.append([root.val]+i)\n",
    "        return result"
   ]
  },
  {
   "cell_type": "markdown",
   "metadata": {},
   "source": [
    "#### 25.输入一个复杂链表（每个节点中有节点值，以及两个指针，一个指向下一个节点，另一个特殊指针指向任意一个节点），返回结果为复制后复杂链表的head。（注意，输出结果中请不要返回参数中的节点引用，否则判题程序会直接返回空）"
   ]
  },
  {
   "cell_type": "code",
   "execution_count": 16,
   "metadata": {},
   "outputs": [],
   "source": [
    "# -*- coding:utf-8 -*-\n",
    "#1、遍历链表，复制每个结点，如复制结点A得到A1，将结点A1插到结点A后面；\n",
    "#2、重新遍历链表，复制老结点的随机指针给新结点，如A1.random = A.random.next;\n",
    "#3、拆分链表，将链表拆分为原链表和复制后的链表\n",
    "# class RandomListNode:\n",
    "#     def __init__(self, x):\n",
    "#         self.label = x\n",
    "#         self.next = None\n",
    "#         self.random = None\n",
    "class Solution:\n",
    "    # 返回 RandomListNode\n",
    "    def Clone(self, pHead):\n",
    "        # write code here\n",
    "        #1.\n",
    "        if not pHead:\n",
    "            return None\n",
    "        current=pHead;\n",
    "        while current:\n",
    "            tmp=RandomListNode(current.label)\n",
    "            tmp.next=current.next\n",
    "            current.next=tmp\n",
    "            current=tmp.next\n",
    "        current=pHead;\n",
    "        #2.\n",
    "        while current.random:\n",
    "            tmp=current.next\n",
    "            tmp.random=current.random.next\n",
    "            current=tmp.next\n",
    "        #3.\n",
    "        current=pHead\n",
    "        res=pHead.next\n",
    "        while current.next:\n",
    "            tmp=current.next\n",
    "            current.next=tmp.next\n",
    "            current=tmp\n",
    "        return res  "
   ]
  },
  {
   "cell_type": "markdown",
   "metadata": {},
   "source": [
    "#### 26.输入一棵二叉搜索树，将该二叉搜索树转换成一个排序的双向链表。要求不能创建任何新的结点，只能调整树中结点指针的指向。 (中序遍历）"
   ]
  },
  {
   "cell_type": "code",
   "execution_count": 1,
   "metadata": {},
   "outputs": [],
   "source": [
    "# -*- coding:utf-8 -*-\n",
    "# class TreeNode:\n",
    "#     def __init__(self, x):\n",
    "#         self.val = x\n",
    "#         self.left = None\n",
    "#         self.right = None\n",
    "class Solution:\n",
    "    def NodeList(self,pRootOfTree):\n",
    "        if not pRootOfTree:\n",
    "            return []\n",
    "        return self.NodeList(pRootOfTree.left)+[pRootOfTree]+self.NodeList(pRootOfTree.right)\n",
    "        \n",
    "    def Convert(self, pRootOfTree):\n",
    "        # write code here\n",
    "        res=self.NodeList(pRootOfTree)\n",
    "        if len(res) == 0:\n",
    "            return None\n",
    "        if len(res) == 1:\n",
    "            return pRootOfTree\n",
    "        res[0].left=None\n",
    "        res[0].right=res[1]\n",
    "        res[-1].right=None\n",
    "        res[-1].left=res[-2]\n",
    "        length=len(res)\n",
    "        for i in range(1,length-1):\n",
    "            res[i].left=res[i-1]\n",
    "            res[i].right=res[i+1]\n",
    "        return res[0]"
   ]
  },
  {
   "cell_type": "markdown",
   "metadata": {},
   "source": [
    "#### 27.输入一个字符串,按字典序打印出该字符串中字符的所有排列。例如输入字符串abc,则打印出由字符a,b,c所能排列出来的所有字符串abc,acb,bac,bca,cab和cba。"
   ]
  },
  {
   "cell_type": "code",
   "execution_count": 2,
   "metadata": {},
   "outputs": [],
   "source": [
    "import itertools\n",
    "class Solution:\n",
    "    def Permutation(self, ss):\n",
    "        if not ss:\n",
    "            return []\n",
    "        return sorted(list(set(map(\"\".join,itertools.permutation(ss)))))"
   ]
  },
  {
   "cell_type": "markdown",
   "metadata": {},
   "source": [
    "#### 28.数组中有一个数字出现的次数超过数组长度的一半，请找出这个数字。例如输入一个长度为9的数组{1,2,3,2,2,2,5,4,2}。由于数字2在数组中出现了5次，超过数组长度的一半，因此输出2。如果不存在则输出0。"
   ]
  },
  {
   "cell_type": "code",
   "execution_count": 3,
   "metadata": {},
   "outputs": [],
   "source": [
    "import collections\n",
    "class Solution:\n",
    "    def MoreThanHalfNum_Solution(self, numbers):\n",
    "        if not numbers:\n",
    "            return []\n",
    "        tmp=collections.counter(numbers)\n",
    "        half=len(numbers)/2\n",
    "        for key,value in tmp.items():\n",
    "            if value > half:\n",
    "                return key\n",
    "        return 0\n",
    "            "
   ]
  },
  {
   "cell_type": "markdown",
   "metadata": {},
   "source": [
    "#### 29.输入n个整数，找出其中最小的K个数。例如输入4,5,1,6,2,7,3,8这8个数字，则最小的4个数字是1,2,3,4,。"
   ]
  },
  {
   "cell_type": "code",
   "execution_count": 4,
   "metadata": {},
   "outputs": [],
   "source": [
    "class Solution:\n",
    "    def GetLeastNumbers_Solutions(self, tinput, k):\n",
    "        if not tinput or k > len(tinput):\n",
    "            return []\n",
    "        return tinput.sort()[:k]"
   ]
  },
  {
   "cell_type": "markdown",
   "metadata": {},
   "source": [
    "#### 30.HZ偶尔会拿些专业问题来忽悠那些非计算机专业的同学。今天测试组开完会后,他又发话了:在古老的一维模式识别中,常常需要计算连续子向量的最大和,当向量全为正数的时候,问题很好解决。但是,如果向量中包含负数,是否应该包含某个负数,并期望旁边的正数会弥补它呢？例如:{6,-3,-2,7,-15,1,2,2},连续子向量的最大和为8(从第0个开始,到第3个为止)。给一个数组，返回它的最大连续子序列的和，你会不会被他忽悠住？(子向量的长度至少是1)"
   ]
  },
  {
   "cell_type": "code",
   "execution_count": 8,
   "metadata": {},
   "outputs": [],
   "source": [
    "# -*- coding:utf-8 -*-\n",
    "class Solution:\n",
    "    def FindGreatestSumOfSubArray(self,array):\n",
    "        if not array:\n",
    "            return []\n",
    "        if len(array) == 1:\n",
    "            return [array]\n",
    "        max_sum=-0xffffff; current_sum = 0\n",
    "        for i in array:        \n",
    "            if current_sum <= 0:\n",
    "                current_sum = i\n",
    "            else:\n",
    "                current_sum += i\n",
    "            if current_sum > max_sum:\n",
    "                max_sum = current_sum\n",
    "        return max_sum"
   ]
  },
  {
   "cell_type": "markdown",
   "metadata": {},
   "source": [
    "#### 31.求出1~13的整数中1出现的次数,并算出100~1300的整数中1出现的次数？为此他特别数了一下1~13中包含1的数字有1、10、11、12、13因此共出现6次,但是对于后面问题他就没辙了。ACMer希望你们帮帮他,并把问题更加普遍化,可以很快的求出任意非负整数区间中1出现的次数（从1 到 n 中1出现的次数）。"
   ]
  },
  {
   "cell_type": "code",
   "execution_count": null,
   "metadata": {},
   "outputs": [],
   "source": []
  },
  {
   "cell_type": "markdown",
   "metadata": {},
   "source": [
    "#### 32.输入一个正整数数组，把数组里所有数字拼接起来排成一个数，打印能拼接出的所有数字中最小的一个。例如输入数组{3，32，321}，则打印出这三个数字能排成的最小数字为321323。"
   ]
  },
  {
   "cell_type": "code",
   "execution_count": 9,
   "metadata": {},
   "outputs": [],
   "source": [
    "class Solution:\n",
    "    def PrintMinNumber(self, numbers):\n",
    "        if not numbers:\n",
    "            return \"\"\n",
    "        lam = lambda n1, n2: int(str(n1)+str(n2))-int(str(n2)+str(n1))\n",
    "        array=sorted(numbers, cmp=lam)\n",
    "        return \"\".join(str(i) for i in array)"
   ]
  },
  {
   "cell_type": "markdown",
   "metadata": {},
   "source": [
    "#### 33. 把只包含质因子2、3和5的数称作丑数（Ugly Number）。例如6、8都是丑数，但14不是，因为它包含质因子7。 习惯上我们把1当做是第一个丑数。求按从小到大的顺序的第N个丑数。"
   ]
  },
  {
   "cell_type": "code",
   "execution_count": 10,
   "metadata": {},
   "outputs": [],
   "source": [
    "class Solution:\n",
    "    def GetUglyNumber_Solution(self, index):\n",
    "        # write code here\n",
    "        if index<1:\n",
    "            return 0\n",
    "        data=[1,]\n",
    "        index2=0\n",
    "        index3=0\n",
    "        index5=0\n",
    "        indexitter=0\n",
    "        while indexitter<index:\n",
    "            indexitter+=1\n",
    "            d= min(data[index2]*2,data[index3]*3,data[index5]*5)\n",
    "            data.append(d)\n",
    "            if data[index2]*2==d:\n",
    "                index2+=1\n",
    "            if data[index3]*3==d:\n",
    "                index3+=1\n",
    "            if data[index5]*5==d:\n",
    "                index5+=1\n",
    "        return data[index-1]"
   ]
  },
  {
   "cell_type": "markdown",
   "metadata": {},
   "source": [
    "#### 34.在一个字符串(0<=字符串长度<=10000，全部由字母组成)中找到第一个只出现一次的字符,并返回它的位置, 如果没有则返回 -1（需要区分大小写）."
   ]
  },
  {
   "cell_type": "code",
   "execution_count": 12,
   "metadata": {},
   "outputs": [],
   "source": [
    "class Solution:\n",
    "    def FirstNotRepeatingChar(self, s):\n",
    "        if not s:\n",
    "            return -1\n",
    "        index = 0\n",
    "        for i in s:\n",
    "            if s.count(i) == 1:\n",
    "                return index\n",
    "                break\n",
    "            else:\n",
    "                index+=1\n",
    "        "
   ]
  },
  {
   "cell_type": "markdown",
   "metadata": {},
   "source": [
    "#### 35.在数组中的两个数字，如果前面一个数字大于后面的数字，则这两个数字组成一个逆序对。输入一个数组,求出这个数组中的逆序对的总数P。并将P对1000000007取模的结果输出。 即输出P%1000000007"
   ]
  },
  {
   "cell_type": "code",
   "execution_count": null,
   "metadata": {},
   "outputs": [],
   "source": []
  },
  {
   "cell_type": "markdown",
   "metadata": {},
   "source": [
    "#### 36.输入两个链表，找出它们的第一个公共结点。"
   ]
  },
  {
   "cell_type": "code",
   "execution_count": null,
   "metadata": {},
   "outputs": [],
   "source": [
    "# -*- coding:utf-8 -*-\n",
    "# class ListNode:\n",
    "#     def __init__(self, x):\n",
    "#         self.val = x\n",
    "#         self.next = None\n",
    "class Solution:\n",
    "    def FindFirstCommonNode(self, pHead1, pHead2):\n",
    "        list1=[]\n",
    "        list2=[]\n",
    "        result=[]\n",
    "        \n",
    "        if not pHead1 or not pHead2:\n",
    "            return None \n",
    "        p1=pHead1\n",
    "        p2=pHead2\n",
    "        while p1:\n",
    "            list1.append(p1)\n",
    "            p1=p1.next\n",
    "        while p2:\n",
    "            list2.append(p2)\n",
    "            p2=p2.next\n",
    "            \n",
    "        while list1 and list2:\n",
    "            node1=list1.pop()\n",
    "            node2=list2.pop()\n",
    "            if node1 == node2:\n",
    "                result.append(node1)\n",
    "        \n",
    "        if not result:\n",
    "            return None\n",
    "        else:\n",
    "            return result.pop()\n",
    "                "
   ]
  },
  {
   "cell_type": "markdown",
   "metadata": {},
   "source": [
    "#### 37.统计一个数字在排序数组中出现的次数。"
   ]
  },
  {
   "cell_type": "code",
   "execution_count": null,
   "metadata": {},
   "outputs": [],
   "source": [
    "class Solution:\n",
    "    def GetNumberOfK(self, data, k):\n",
    "        if not data :\n",
    "            return 0\n",
    "        low=0\n",
    "        cnt=0\n",
    "        high=len(data)-1\n",
    "        end=len(data)-1\n",
    "        while low<=high:\n",
    "            medium = (low+high)/2\n",
    "            if data[medium] == k:\n",
    "                while medium >= 0 and data[medium] == k :\n",
    "                    medium -=1\n",
    "                medium +=1\n",
    "                while medium <= end and data[medium] == k :\n",
    "                    medium += 1\n",
    "                    cnt+=1\n",
    "                return cnt\n",
    "            elif data[medium] < k:\n",
    "                low = medium+1\n",
    "            else:\n",
    "                high = medium-1\n",
    "        return cnt"
   ]
  },
  {
   "cell_type": "markdown",
   "metadata": {},
   "source": [
    "#### 38.输入一棵二叉树，求该树的深度。从根结点到叶结点依次经过的结点（含根、叶结点）形成树的一条路径，最长路径的长度为树的深度。"
   ]
  },
  {
   "cell_type": "code",
   "execution_count": 2,
   "metadata": {},
   "outputs": [],
   "source": [
    "# class TreeNode:\n",
    "#     def __init__(self, x):\n",
    "#         self.val = x\n",
    "#         self.left = None\n",
    "#         self.right = None\n",
    "class Solution:\n",
    "    def TreeDepth(self, pRoot):\n",
    "        # write code here\n",
    "        if not pRoot:\n",
    "            return 0\n",
    "        else:\n",
    "            leftx=self.TreeDepth(pRoot.left)+1\n",
    "            rightx=self.TreeDepth(pRoot.right)+1\n",
    "            x=max(leftx, rightx)\n",
    "            return x"
   ]
  },
  {
   "cell_type": "markdown",
   "metadata": {},
   "source": [
    "#### 39.输入一棵二叉树，判断该二叉树是否是平衡二叉树。"
   ]
  },
  {
   "cell_type": "code",
   "execution_count": 1,
   "metadata": {},
   "outputs": [],
   "source": [
    "# -*- coding:utf-8 -*-\n",
    "# class TreeNode:\n",
    "#     def __init__(self, x):\n",
    "#         self.val = x\n",
    "#         self.left = None\n",
    "#         self.right = None\n",
    "class Solution:\n",
    "    def IsBalanced_Solution(self, pRoot):\n",
    "        if not pRoot:\n",
    "            return True\n",
    "        if abs(self.TreeDepth(pRoot.left)-self.TreeDepth(pRoot.right)) > 1:\n",
    "            return False\n",
    "        else:\n",
    "            return self.IsBalanced_Solution(pRoot.left) and self.IsBalanced_Solution(pRoot.right)\n",
    "    \n",
    "    def TreeDepth(self, pRoot):\n",
    "        if not pRoot:\n",
    "            return 0\n",
    "        else:\n",
    "            leftx=self.TreeDepth(pRoot.left)+1\n",
    "            rightx=self.TreeDepth(pRoot.right)+1\n",
    "            return max(leftx, rightx)"
   ]
  },
  {
   "cell_type": "markdown",
   "metadata": {},
   "source": [
    "#### 40.一个整型数组里除了两个数字之外，其他的数字都出现了两次。请写程序找出这两个只出现一次的数字。"
   ]
  },
  {
   "cell_type": "code",
   "execution_count": 3,
   "metadata": {},
   "outputs": [],
   "source": [
    "class Solution:\n",
    "    def FindNumsAppearOnce(self,array):\n",
    "        result=[]\n",
    "        for i in array:\n",
    "            if i in result:\n",
    "                result.remove(i)\n",
    "            else:\n",
    "                result.append(i)\n",
    "        return result\n"
   ]
  },
  {
   "cell_type": "markdown",
   "metadata": {},
   "source": [
    "#### 41.小明很喜欢数学,有一天他在做数学作业时,要求计算出9~16的和,他马上就写出了正确答案是100。但是他并不满足于此,他在想究竟有多少种连续的正数序列的和为100(至少包括两个数)。没多久,他就得到另一组连续正数和为100的序列:18,19,20,21,22。现在把问题交给你,你能不能也很快的找出所有和为S的连续正数序列? Good Luck!"
   ]
  },
  {
   "cell_type": "code",
   "execution_count": 4,
   "metadata": {},
   "outputs": [],
   "source": [
    "# -*- coding:utf-8 -*-\n",
    "class Solution:\n",
    "    def FindContinuousSequence(self, tsum):\n",
    "        # write code here\n",
    "        low = 1; high = 2; result = []\n",
    "        while high > low:\n",
    "            current = (high + low) * (high-low+1)/2\n",
    "            if current == tsum:\n",
    "                res=[]\n",
    "                for i in range(low, high+1):\n",
    "                    res.append(i)\n",
    "                result.append(res)\n",
    "                high+=1\n",
    "            elif current < tsum:\n",
    "                high+=1\n",
    "            else:\n",
    "                low +=1\n",
    "        return result\n"
   ]
  },
  {
   "cell_type": "markdown",
   "metadata": {},
   "source": [
    "#### 42.输入一个递增排序的数组和一个数字S，在数组中查找两个数，使得他们的和正好是S，如果有多对数字的和等于S，输出两个数的乘积最小的。   AC40%"
   ]
  },
  {
   "cell_type": "code",
   "execution_count": 5,
   "metadata": {},
   "outputs": [],
   "source": [
    "class Solution:\n",
    "    def FindNumbersWithSum(self, array, tsum):\n",
    "        low=0;\n",
    "        high=len(array)-1;\n",
    "        result=[]\n",
    "        while low < high:\n",
    "            currentSum= array[low] + array[high]\n",
    "            if  currentSum == tsum:\n",
    "                result.append([array[low],array[high]])\n",
    "                low+=1\n",
    "            elif currentSum > tsum:\n",
    "                high-=1\n",
    "            else:\n",
    "                low+=1\n",
    "        return result[0]\n"
   ]
  },
  {
   "cell_type": "markdown",
   "metadata": {},
   "source": [
    "#### 43.汇编语言中有一种移位指令叫做循环左移（ROL），现在有个简单的任务，就是用字符串模拟这个指令的运算结果。对于一个给定的字符序列S，请你把其循环左移K位后的序列输出。例如，字符序列S=”abcXYZdef”,要求输出循环左移3位后的结果，即“XYZdefabc”。是不是很简单？OK，搞定它！"
   ]
  },
  {
   "cell_type": "code",
   "execution_count": 19,
   "metadata": {},
   "outputs": [],
   "source": [
    "class Solution:\n",
    "    def LeftRotateString(self, s, n):\n",
    "        # write code here\n",
    "        if not s:\n",
    "            return \"\"\n",
    "        lst=list(s)\n",
    "        print(lst)\n",
    "        for j in range(n):\n",
    "            popChar=lst.pop(0)\n",
    "            lst.append(popChar)\n",
    "            print(lst)\n",
    "        return \"\".join(lst)"
   ]
  },
  {
   "cell_type": "markdown",
   "metadata": {},
   "source": [
    "#### 44.牛客最近来了一个新员工Fish，每天早晨总是会拿着一本英文杂志，写些句子在本子上。同事Cat对Fish写的内容颇感兴趣，有一天他向Fish借来翻看，但却读不懂它的意思。例如，“student. a am I”。后来才意识到，这家伙原来把句子单词的顺序翻转了，正确的句子应该是“I am a student.”。Cat对一一的翻转这些单词顺序可不在行，你能帮助他么？"
   ]
  },
  {
   "cell_type": "code",
   "execution_count": 33,
   "metadata": {},
   "outputs": [],
   "source": [
    "# -*- coding:utf-8 -*-\n",
    "class Solution:\n",
    "    def ReverseSentence(self, s):\n",
    "        # write code here\n",
    "        if not s:\n",
    "            return \"\"\n",
    "        lst=s.split(\" \")\n",
    "        length=len(lst)\n",
    "        print(lst)\n",
    "        result=[]\n",
    "        for i in range(length):\n",
    "            popWord=lst.pop(-1)\n",
    "            result.append(popWord)\n",
    "            print(result)\n",
    "        return \" \".join(result)"
   ]
  },
  {
   "cell_type": "markdown",
   "metadata": {},
   "source": [
    "#### 45.LL今天心情特别好,因为他去买了一副扑克牌,发现里面居然有2个大王,2个小王(一副牌原本是54张^_^)...他随机从中抽出了5张牌,想测测自己的手气,看看能不能抽到顺子,如果抽到的话,他决定去买体育彩票,嘿嘿！！“红心A,黑桃3,小王,大王,方片5”,“Oh My God!”不是顺子.....LL不高兴了,他想了想,决定大\\小 王可以看成任何数字,并且A看作1,J为11,Q为12,K为13。上面的5张牌就可以变成“1,2,3,4,5”(大小王分别看作2和4),“So Lucky!”。LL决定去买体育彩票啦。 现在,要求你使用这幅牌模拟上面的过程,然后告诉我们LL的运气如何， 如果牌能组成顺子就输出true，否则就输出false。为了方便起见,你可以认为大小王是0。"
   ]
  },
  {
   "cell_type": "code",
   "execution_count": 35,
   "metadata": {},
   "outputs": [],
   "source": [
    "class Solution:\n",
    "    def IsContinuous(self, numbers):\n",
    "        if not numbers:\n",
    "            return False\n",
    "        numberOf0=0\n",
    "        numbers.sort()\n",
    "        while 0 in numbers:\n",
    "            numbers.remove(0)\n",
    "            numberOf0+=1\n",
    "        if len(numbers) == 1:\n",
    "            return True\n",
    "        for j in range(0,len(numbers)-1):\n",
    "            if numbers[j] == numbers[j+1]:\n",
    "                return False\n",
    "        if numbers[-1] - numbers[0] < 5:\n",
    "            return True\n",
    "        else:\n",
    "            return False    "
   ]
  },
  {
   "cell_type": "markdown",
   "metadata": {},
   "source": [
    "#### 46.每年六一儿童节,牛客都会准备一些小礼物去看望孤儿院的小朋友,今年亦是如此。HF作为牛客的资深元老,自然也准备了一些小游戏。其中,有个游戏是这样的:首先,让小朋友们围成一个大圈。然后,他随机指定一个数m,让编号为0的小朋友开始报数。每次喊到m-1的那个小朋友要出列唱首歌,然后可以在礼品箱中任意的挑选礼物,并且不再回到圈中,从他的下一个小朋友开始,继续0...m-1报数....这样下去....直到剩下最后一个小朋友,可以不用表演,并且拿到牛客名贵的“名侦探柯南”典藏版(名额有限哦!!^_^)。请你试着想下,哪个小朋友会得到这份礼品呢？(注：小朋友的编号是从0到n-1)"
   ]
  },
  {
   "cell_type": "code",
   "execution_count": 37,
   "metadata": {},
   "outputs": [],
   "source": [
    "# -*- coding:utf-8 -*-约瑟夫环问题\n",
    "class Solution:\n",
    "    def LastRemaining_Solution(self, n, m):\n",
    "        # write code here\n",
    "        if not m or not n:\n",
    "            return -1\n",
    "        result = range(n)\n",
    "        i=0;\n",
    "        while len(result) > 1:\n",
    "            i=(m+i-1)%len(result)\n",
    "            result.pop(i)\n",
    "        return result[0]"
   ]
  },
  {
   "cell_type": "markdown",
   "metadata": {},
   "source": [
    "#### 47.求1+2+3+...+n，要求不能使用乘除法、for、while、if、else、switch、case等关键字及条件判断语句（A?B:C）。"
   ]
  },
  {
   "cell_type": "code",
   "execution_count": 11,
   "metadata": {},
   "outputs": [],
   "source": [
    "class Solution:\n",
    "    def __init__(self):\n",
    "        self.sum = 0\n",
    "    def Sum_Solution(self, n):\n",
    "        def qiusum(n):\n",
    "            self.sum+=n\n",
    "            return (n>0) and self.Sum_Solution(n-1)\n",
    "        qiusum(n)\n",
    "        return self.sum"
   ]
  },
  {
   "cell_type": "markdown",
   "metadata": {},
   "source": [
    "#### 48.写一个函数，求两个整数之和，要求在函数体内不得使用+、-、*、/四则运算符号。"
   ]
  },
  {
   "cell_type": "code",
   "execution_count": null,
   "metadata": {},
   "outputs": [],
   "source": [
    "class Solution:\n",
    "    def Add(self, num1, num2):\n",
    "        while num2 != 0:\n",
    "            n1= (num1^num2)&0xffffffff\n",
    "            n2=(num1&num2) << 1\n",
    "            num1 = n1; num2 = n2\n",
    "        return num1 if num1 >>31 ==0 else num1-4294967296"
   ]
  },
  {
   "cell_type": "markdown",
   "metadata": {},
   "source": [
    "#### 49.将一个字符串转换成一个整数(实现Integer.valueOf(string)的功能，但是string不符合数字要求时返回0)，要求不能使用字符串转换整数的库函数。 数值为0或者字符串不是一个合法的数值则返回0。"
   ]
  },
  {
   "cell_type": "code",
   "execution_count": 14,
   "metadata": {},
   "outputs": [],
   "source": [
    "class Solution:\n",
    "    def StrToInt(self, s):\n",
    "        if s in ['','-','+','+-','-+']:\n",
    "            return 0\n",
    "        if not s:\n",
    "            return 0\n",
    "        count=0\n",
    "        for i in s:\n",
    "            if i not in \"0123456789+-\":\n",
    "                count+=1\n",
    "        for i in s[1:]:\n",
    "            if i in \"+-\":\n",
    "                count+=1\n",
    "        if count:\n",
    "            return 0\n",
    "        return int(s)\n",
    "        "
   ]
  },
  {
   "cell_type": "markdown",
   "metadata": {},
   "source": [
    "#### 50.在一个长度为n的数组里的所有数字都在0到n-1的范围内。 数组中某些数字是重复的，但不知道有几个数字是重复的。也不知道每个数字重复几次。请找出数组中任意一个重复的数字。 例如，如果输入长度为7的数组{2,3,1,0,2,5,3}，那么对应的输出是第一个重复的数字2。"
   ]
  },
  {
   "cell_type": "code",
   "execution_count": null,
   "metadata": {},
   "outputs": [],
   "source": [
    "class Solution:\n",
    "    # 这里要特别注意~找到任意重复的一个值并赋值到duplication[0]\n",
    "    # 函数返回True/False\n",
    "    def duplicate(self, numbers, duplication):\n",
    "        # write code here\n",
    "        if len(numbers) == 0:\n",
    "            return False\n",
    "        s=[]\n",
    "        for i in numbers:\n",
    "            if i in s:\n",
    "                duplication[0]=i\n",
    "                return True\n",
    "            s.append(i)    \n",
    "        return False"
   ]
  },
  {
   "cell_type": "markdown",
   "metadata": {},
   "source": [
    "#### 51.给定一个数组A[0,1,...,n-1],请构建一个数组B[0,1,...,n-1],其中B中的元素B[i]=A[0]\\*A[1]\\*...\\*A[i-1]\\*A[i+1]\\*...\\*A[n-1]。不能使用除法。"
   ]
  },
  {
   "cell_type": "code",
   "execution_count": 16,
   "metadata": {},
   "outputs": [],
   "source": [
    "class Solution:\n",
    "    def multiply(self, A):\n",
    "        if not A:\n",
    "            return []\n",
    "        length=len(A)\n",
    "        B = [None]*length\n",
    "        B[0]=1\n",
    "        for i in range(1,length):\n",
    "            B[i]=B[i-1]*A[i-1]\n",
    "        tmp=1\n",
    "        for j in range(length-2,-1,-1):\n",
    "            tmp*=A[j+1]\n",
    "            B[j]*=tmp\n",
    "        return B\n"
   ]
  },
  {
   "cell_type": "markdown",
   "metadata": {},
   "source": [
    "#### 52.实现一个函数用来匹配包括'.'和'\\*'的正则表达式。模式中的字符'.'表示任意一个字符，而'\\*'表示它前面的字符可以出现任意次（包含0次）。 在本题中，匹配是指字符串的所有字符匹配整个模式。例如，字符串\"aaa\"与模式\"a.a\"和\"ab\\*ac\\*a\"匹配，但是与\"aa.a\"和\"ab*a\"均不匹配"
   ]
  },
  {
   "cell_type": "code",
   "execution_count": 17,
   "metadata": {},
   "outputs": [],
   "source": [
    "class Solution:\n",
    "    def match(self, s, pattern):\n",
    "        if len(s) == 0 and len(pattern) == 0:\n",
    "            return True\n",
    "        if len(s)>0 and len(pattern) == 0:\n",
    "            return False\n",
    "        if len(pattern)>1 and pattern[1] == '*':\n",
    "            if len(s)>0 and (s[0]==pattern[0] or pattern[0] == '.'):\n",
    "                return self.match(s, pattern[2:]) or self.match(s[1:], pattern[2:]) or self.match(s[1:],pattern)\n",
    "            else:\n",
    "                return self.match(s, pattern[2:])\n",
    "        if len(s)>0 and (s[0] == pattern[0] or pattern[0] == '.'):\n",
    "            return self.match(s[1:], pattern[1:])\n",
    "        else:\n",
    "            return False"
   ]
  },
  {
   "cell_type": "markdown",
   "metadata": {},
   "source": [
    "#### 53.请实现一个函数用来判断字符串是否表示数值（包括整数和小数）。例如，字符串\"+100\",\"5e2\",\"-123\",\"3.1416\"和\"-1E-16\"都表示数值。 但是\"12e\",\"1a3.14\",\"1.2.3\",\"+-5\"和\"12e+4.3\"都不是。"
   ]
  },
  {
   "cell_type": "code",
   "execution_count": 20,
   "metadata": {},
   "outputs": [],
   "source": [
    "class Solution:\n",
    "    def isNumeric(self, s):\n",
    "        import re\n",
    "        if not s:\n",
    "            return False\n",
    "        else:\n",
    "            return re.match(r\"^[\\+\\-]?[0-9]*(\\.[0-9]*)?([eE][\\+\\-]?[0-9]+)?$\",s)"
   ]
  },
  {
   "cell_type": "markdown",
   "metadata": {},
   "source": [
    "#### 54.请实现一个函数用来找出字符流中第一个只出现一次的字符。例如，当从字符流中只读出前两个字符\"go\"时，第一个只出现一次的字符是\"g\"。当从该字符流中读出前六个字符“google\"时，第一个只出现一次的字符是\"l\"。(如果当前字符流没有存在出现一次的字符，返回#字符。)"
   ]
  },
  {
   "cell_type": "code",
   "execution_count": 22,
   "metadata": {},
   "outputs": [],
   "source": [
    "class Solution:\n",
    "    def __init__(self):\n",
    "        self.s=''\n",
    "    def FirstAppearingOnce(self):\n",
    "        for i in self.s:\n",
    "            if self.s.count(i) == 1:\n",
    "                return i\n",
    "        return '#'\n",
    "    def Insert(self, char):\n",
    "        self.s+=char"
   ]
  },
  {
   "cell_type": "markdown",
   "metadata": {},
   "source": [
    "#### 55.给一个链表，若其中包含环，请找出该链表的环的入口结点，否则，输出null。"
   ]
  },
  {
   "cell_type": "code",
   "execution_count": 23,
   "metadata": {},
   "outputs": [],
   "source": [
    "# -*- coding:utf-8 -*-\n",
    "# class ListNode:\n",
    "#     def __init__(self, x):\n",
    "#         self.val = x\n",
    "#         self.next = None\n",
    "class Solution:\n",
    "    def EntryNodeOfLoop(self, pHead):\n",
    "        # write code here\n",
    "        if not pHead or pHead.next == None:\n",
    "            return None\n",
    "        nodeList=[]\n",
    "        p=pHead;\n",
    "        while p != None:\n",
    "            if p.next in nodeList:\n",
    "                return p.next\n",
    "            else:\n",
    "                nodeList.append(p)\n",
    "                p=p.next\n",
    "        return None"
   ]
  },
  {
   "cell_type": "markdown",
   "metadata": {},
   "source": [
    "#### 56.在一个排序的链表中，存在重复的结点，请删除该链表中重复的结点，重复的结点不保留，返回链表头指针。 例如，链表1->2->3->3->4->4->5 处理后为 1->2->5"
   ]
  },
  {
   "cell_type": "code",
   "execution_count": 24,
   "metadata": {},
   "outputs": [],
   "source": [
    "# -*- coding:utf-8 -*-\n",
    "# class ListNode:\n",
    "#     def __init__(self, x):\n",
    "#         self.val = x\n",
    "#         self.next = None\n",
    "class Solution:\n",
    "    def deleteDuplication(self, pHead):\n",
    "        # write code here\n",
    "        if pHead is None or pHead.next is None:\n",
    "            return pHead\n",
    "        head1 = pHead.next\n",
    "        if head1.val != pHead.val:\n",
    "            pHead.next=self.deleteDuplication(pHead.next)\n",
    "        else:\n",
    "            while head1.next != None and head1.val == pHead.val:\n",
    "                head1=head1.next\n",
    "            if head1.val != pHead.val:\n",
    "                pHead = self.deleteDuplication(head1)\n",
    "            else:\n",
    "                return None\n",
    "        return pHead"
   ]
  },
  {
   "cell_type": "markdown",
   "metadata": {},
   "source": [
    "#### 57.1、给定一个二叉树和其中的一个结点，请找出中序遍历顺序的下一个结点并且返回。注意，树中的结点不仅包含左右子结点，同时包含指向父结点的指针。\n",
    "有右子树的，那么下个结点就是右子树最左边的点；（eg：D，B，E，A，C，G） 2、没有右子树的，也可以分成两类，a)是父节点左孩子（eg：N，I，L） ，那么父节点就是下一个节点 ； b)是父节点的右孩子（eg：H，J，K，M）找他的父节点的父节点的父节点...直到当前结点是其父节点的左孩子位置。如果没有eg：M，那么他就是尾节点。"
   ]
  },
  {
   "cell_type": "code",
   "execution_count": 1,
   "metadata": {},
   "outputs": [],
   "source": [
    "# -*- coding:utf-8 -*-\n",
    "# class TreeLinkNode:\n",
    "#     def __init__(self, x):\n",
    "#         self.val = x\n",
    "#         self.left = None\n",
    "#         self.right = None\n",
    "#         self.next = None\n",
    "class Solution:\n",
    "    def GetNext(self, pNode):\n",
    "        if not pNode:\n",
    "            return pNode\n",
    "        if pNode.right:\n",
    "            left1 = pNode.right\n",
    "            while left1.left != None:\n",
    "                left1 = left1.left\n",
    "            return left1\n",
    "        p = pNode\n",
    "        while pNode.next:\n",
    "            tmp = pNode.next\n",
    "            if tmp.left == pNode:\n",
    "                return tmp\n",
    "            pNode = tmp"
   ]
  },
  {
   "cell_type": "markdown",
   "metadata": {},
   "source": [
    "#### 58.请实现一个函数，用来判断一颗二叉树是不是对称的。注意，如果一个二叉树同此二叉树的镜像是同样的，定义其为对称的。"
   ]
  },
  {
   "cell_type": "code",
   "execution_count": 2,
   "metadata": {},
   "outputs": [],
   "source": [
    "# -*- coding:utf-8 -*-\n",
    "# class TreeNode:\n",
    "#     def __init__(self, x):\n",
    "#         self.val = x\n",
    "#         self.left = None\n",
    "#         self.right = None\n",
    "class Solution:\n",
    "    def isSymmetrical1(self, leftNode, rightNode):\n",
    "        if not leftNode and not rightNode:\n",
    "            return True\n",
    "        if leftNode == None or rightNode == None:\n",
    "            return False\n",
    "        if leftNode.val != rightNode.val:\n",
    "            return False\n",
    "        else:\n",
    "            return self.isSymmetrical1(leftNode.left, rightNode.right) and self.isSymmetrical1(leftNode.right, rightNode.left)\n",
    "\n",
    "    def isSymmetrical(self, pRoot):\n",
    "        # write code here\n",
    "        if not pRoot:\n",
    "            return True\n",
    "        if not pRoot.left and not pRoot.right:\n",
    "            return True\n",
    "        return self.isSymmetrical1(pRoot.left, pRoot.right)"
   ]
  },
  {
   "cell_type": "markdown",
   "metadata": {},
   "source": [
    "#### 59.请实现一个函数按照之字形打印二叉树，即第一行按照从左到右的顺序打印，第二层按照从右至左的顺序打印，第三行按照从左到右的顺序打印，其他行以此类推。"
   ]
  },
  {
   "cell_type": "code",
   "execution_count": null,
   "metadata": {},
   "outputs": [],
   "source": [
    "# -*- coding:utf-8 -*-\n",
    "# class TreeNode:\n",
    "#     def __init__(self, x):\n",
    "#         self.val = x\n",
    "#         self.left = None\n",
    "#         self.right = None\n",
    "class Solution:\n",
    "    def Print(self, pRoot):\n",
    "        if not pRoot:\n",
    "            return []\n",
    "        res=[]; odd=[]; even=[]\n",
    "        odd.append(pRoot)\n",
    "        while odd or even:\n",
    "            row=[]\n",
    "            while odd:\n",
    "                tmp=odd.pop()\n",
    "                row.append(tmp.val)\n",
    "                if tmp.left:\n",
    "                    even.append(tmp.left)\n",
    "                if tmp.right:\n",
    "                    even.append(tmp.right)\n",
    "            if row:\n",
    "                res.append(row)\n",
    "            \n",
    "            row=[]\n",
    "            while even:\n",
    "                tmp=even.pop()\n",
    "                row.append(tmp.val)\n",
    "                if tmp.right:\n",
    "                    odd.append(tmp.right)\n",
    "                if tmp.left:\n",
    "                    odd.append(tmp.left)\n",
    "            if row:\n",
    "                res.append(row)\n",
    "        return res\n"
   ]
  },
  {
   "cell_type": "markdown",
   "metadata": {},
   "source": [
    "#### 60.从上到下按层打印二叉树，同一层结点从左至右输出。每一层输出一行。"
   ]
  },
  {
   "cell_type": "code",
   "execution_count": 3,
   "metadata": {},
   "outputs": [],
   "source": [
    "# -*- coding:utf-8 -*-\n",
    "# class TreeNode:\n",
    "#     def __init__(self, x):\n",
    "#         self.val = x\n",
    "#         self.left = None\n",
    "#         self.right = None\n",
    "class Solution:\n",
    "    # 返回二维列表[[1,2],[4,5]]\n",
    "    def Print(self, pRoot):\n",
    "        # write code here\n",
    "        if not pRoot:\n",
    "            return []\n",
    "        nextList=[]\n",
    "        curList=[]\n",
    "        res=[]\n",
    "        curList.append(pRoot)\n",
    "        while curList or nextList:\n",
    "            row=[]\n",
    "            while curList:\n",
    "                tmp=curList.pop(0)\n",
    "                row.append(tmp.val)\n",
    "                if tmp.left:\n",
    "                    nextList.append(tmp.left)\n",
    "                if tmp.right:\n",
    "                    nextList.append(tmp.right)\n",
    "            if row:\n",
    "                res.append(row)\n",
    "            row=[]\n",
    "            while nextList:\n",
    "                tmp=nextList.pop(0)\n",
    "                row.append(tmp.val)\n",
    "                if tmp.left:\n",
    "                    curList.append(tmp.left)\n",
    "                if tmp.right:\n",
    "                    curList.append(tmp.right)\n",
    "            if row:\n",
    "                res.append(row)\n",
    "        return res"
   ]
  },
  {
   "cell_type": "markdown",
   "metadata": {},
   "source": [
    "#### 61.请实现两个函数，分别用来序列化和反序列化二叉树"
   ]
  },
  {
   "cell_type": "code",
   "execution_count": 4,
   "metadata": {},
   "outputs": [],
   "source": [
    "# -*- coding:utf-8 -*-\n",
    "# class TreeNode:\n",
    "#     def __init__(self, x):\n",
    "#         self.val = x\n",
    "#         self.left = None\n",
    "#         self.right = None\n",
    "class Solution:\n",
    "    flag = -1\n",
    "    def Serialize(self, root):\n",
    "        if not root:\n",
    "            return '#'\n",
    "        else:\n",
    "            return str(root.val) + ',' + self.Serialize(root.left) + ',' + self.Serialize(root.right)\n",
    "    def Deserialize(self, s):\n",
    "        self.flag += 1\n",
    "        l = s.split(',')\n",
    "        if self.flag >= len(s):\n",
    "            return None\n",
    "        root = None\n",
    "        if l[self.flag] != '#':\n",
    "            root = TreeNode(int(l[self.flag]))\n",
    "            root.left = self.Deserialize(s)\n",
    "            root.right = self.Deserialize(s)\n",
    "        return root"
   ]
  },
  {
   "cell_type": "markdown",
   "metadata": {},
   "source": [
    "#### 62.给定一棵二叉搜索树，请找出其中的第k小的结点。例如， （5，3，7，2，4，6，8）    中，按结点数值大小顺序第三小结点的值为4。"
   ]
  },
  {
   "cell_type": "code",
   "execution_count": 8,
   "metadata": {},
   "outputs": [],
   "source": [
    "# -*- coding:utf-8 -*-\n",
    "# class TreeNode:\n",
    "#     def __init__(self, x):\n",
    "#         self.val = x\n",
    "#         self.left = None\n",
    "#         self.right = None\n",
    "class Solution:\n",
    "    def __init__(self):\n",
    "        self.res=[]\n",
    "    def KthNode(self, pRoot, k):\n",
    "        result=self.InOrder(pRoot)\n",
    "        if not result:\n",
    "            return None\n",
    "        if k <= 0 or k > len(result):\n",
    "            return None\n",
    "        return result[k-1]\n",
    "        \n",
    "    def InOrder(self,pRoot):\n",
    "        if not pRoot:\n",
    "            return None\n",
    "        self.InOrder(pRoot.left)\n",
    "        self.res.append(pRoot)\n",
    "        self.InOrder(pRoot.right)\n",
    "        return self.res\n",
    "        "
   ]
  },
  {
   "cell_type": "markdown",
   "metadata": {},
   "source": [
    "#### 63.如何得到一个数据流中的中位数？如果从数据流中读出奇数个数值，那么中位数就是所有数值排序之后位于中间的数值。如果从数据流中读出偶数个数值，那么中位数就是所有数值排序之后中间两个数的平均值。我们使用Insert()方法读取数据流，使用GetMedian()方法获取当前读取数据的中位数。"
   ]
  },
  {
   "cell_type": "code",
   "execution_count": 9,
   "metadata": {},
   "outputs": [],
   "source": [
    "class Solution:\n",
    "    def __init__(self):\n",
    "        self.data=[]\n",
    "    def Insert(self, num):\n",
    "        # write code here\n",
    "        self.data.append(num)\n",
    "        self.data.sort()\n",
    "    def GetMedian(self,data):\n",
    "        # write code here\n",
    "        length=len(self.data)\n",
    "        if length%2==0:\n",
    "            return (self.data[length//2]+self.data[length//2-1])/2.0\n",
    "        else:\n",
    "            return self.data[int(length//2)]\n"
   ]
  },
  {
   "cell_type": "markdown",
   "metadata": {},
   "source": [
    "#### 64.给定一个数组和滑动窗口的大小，找出所有滑动窗口里数值的最大值。例如，如果输入数组{2,3,4,2,6,2,5,1}及滑动窗口的大小3，那么一共存在6个滑动窗口，他们的最大值分别为{4,4,6,6,6,5}； 针对数组{2,3,4,2,6,2,5,1}的滑动窗口有以下6个： {[2,3,4],2,6,2,5,1}， {2,[3,4,2],6,2,5,1}， {2,3,[4,2,6],2,5,1}， {2,3,4,[2,6,2],5,1}， {2,3,4,2,[6,2,5],1}， {2,3,4,2,6,[2,5,1]}。"
   ]
  },
  {
   "cell_type": "code",
   "execution_count": 10,
   "metadata": {},
   "outputs": [],
   "source": [
    "# -*- coding:utf-8 -*-\n",
    "class Solution:\n",
    "    def maxInWindows(self, num, size):\n",
    "        # write code here\n",
    "        length = len(num)\n",
    "        if not length or size == 0:\n",
    "            return []\n",
    "        res=[]\n",
    "        for i in range(0, length-size+1):\n",
    "            res.append(max(num[i:i+size]))\n",
    "        return res"
   ]
  },
  {
   "cell_type": "markdown",
   "metadata": {},
   "source": [
    "#### 65.请设计一个函数，用来判断在一个矩阵中是否存在一条包含某字符串所有字符的路径。路径可以从矩阵中的任意一个格子开始，每一步可以在矩阵中向左，向右，向上，向下移动一个格子。如果一条路径经过了矩阵中的某一个格子，则之后不能再次进入这个格子。 例如 a b c e s f c s a d e e 这样的3 X 4 矩阵中包含一条字符串\"bcced\"的路径，但是矩阵中不包含\"abcb\"路径，因为字符串的第一个字符b占据了矩阵中的第一行第二个格子之后，路径不能再次进入该格子。"
   ]
  },
  {
   "cell_type": "code",
   "execution_count": 11,
   "metadata": {},
   "outputs": [],
   "source": [
    "# -*- coding:utf-8 -*-\n",
    "class Solution:\n",
    "    def hasPath(self, matrix, rows, cols, path):\n",
    "        # write code here\n",
    "        for i in range(rows):\n",
    "            for j in range(cols):\n",
    "                if matrix[i*cols+j]==path[0]:\n",
    "                    if self.find(list(matrix),rows,cols,path[1:],i,j):\n",
    "                        return True\n",
    "        return False\n",
    "    def find(self,matrix,rows,cols,path,i,j):\n",
    "        if not path:\n",
    "            return True\n",
    "        matrix[i*cols+j]='0'\n",
    "        if j+1<cols and matrix[i*cols+(j+1)]==path[0]:\n",
    "            return self.find(matrix,rows,cols,path[1:],i,j+1)\n",
    "        elif j-1>=0 and matrix[i*cols+(j-1)]==path[0]:\n",
    "            return self.find(matrix,rows,cols,path[1:],i,j-1)\n",
    "        elif i+1<rows and matrix[(i+1)*cols+j]==path[0]:\n",
    "            return self.find(matrix,rows,cols,path[1:],i+1,j)\n",
    "        elif i-1>=0 and matrix[(i-1)*cols+j]==path[0]:\n",
    "            return self.find(matrix,rows,cols,path[1:],i-1,j)\n",
    "        else:\n",
    "            return False"
   ]
  },
  {
   "cell_type": "markdown",
   "metadata": {},
   "source": [
    "#### 66.地上有一个m行和n列的方格。一个机器人从坐标0,0的格子开始移动，每一次只能向左，右，上，下四个方向移动一格，但是不能进入行坐标和列坐标的数位之和大于k的格子。 例如，当k为18时，机器人能够进入方格（35,37），因为3+5+3+7 = 18。但是，它不能进入方格（35,38），因为3+5+3+8 = 19。请问该机器人能够达到多少个格子？"
   ]
  },
  {
   "cell_type": "code",
   "execution_count": 12,
   "metadata": {},
   "outputs": [],
   "source": [
    "class Solution:\n",
    "     \n",
    "    def __init__(self):\n",
    "        self.vis = {}\n",
    "         \n",
    "    def movingCount(self, threshold, rows, cols):\n",
    "        # write code here\n",
    "        return self.moving(threshold, rows, cols, 0, 0)\n",
    "         \n",
    "    def moving(self, threshold, rows, cols, row, col):\n",
    "        if row/10 + row%10 + col/10 + col%10 > threshold:\n",
    "            return 0\n",
    "        if row >= rows or col >= cols or row < 0 or col < 0:\n",
    "            return 0\n",
    "        if (row, col) in self.vis:\n",
    "            return 0\n",
    "        self.vis[(row, col)] = 1\n",
    "         \n",
    "        return 1 + self.moving(threshold, rows, cols, row-1, col) + self.moving(threshold, rows, cols, row+1, col) + self.moving(threshold, rows, cols, row, col-1) + self.moving(threshold, rows, cols, row, col+1)\n"
   ]
  },
  {
   "cell_type": "code",
   "execution_count": null,
   "metadata": {},
   "outputs": [],
   "source": []
  }
 ],
 "metadata": {
  "kernelspec": {
   "display_name": "Python 3",
   "language": "python",
   "name": "python3"
  },
  "language_info": {
   "codemirror_mode": {
    "name": "ipython",
    "version": 3
   },
   "file_extension": ".py",
   "mimetype": "text/x-python",
   "name": "python",
   "nbconvert_exporter": "python",
   "pygments_lexer": "ipython3",
   "version": "3.6.5"
  }
 },
 "nbformat": 4,
 "nbformat_minor": 2
}
